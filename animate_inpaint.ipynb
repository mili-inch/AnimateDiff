{
 "cells": [
  {
   "attachments": {},
   "cell_type": "markdown",
   "metadata": {},
   "source": [
    "## Load"
   ]
  },
  {
   "cell_type": "code",
   "execution_count": null,
   "metadata": {},
   "outputs": [],
   "source": [
    "import os\n",
    "import torch\n",
    "\n",
    "from animatediff.pipelines.pipeline_animation_inpaint_v3 import AnimationInpaintPipeline\n",
    "\n",
    "from diffusers import DDIMScheduler, EulerDiscreteScheduler, PNDMScheduler\n",
    "from transformers import CLIPTextModel, CLIPTokenizer\n",
    "from diffusers import AutoencoderKL\n",
    "from animatediff.models.unet import UNet3DConditionModel\n",
    "\n",
    "stable_diffusion_model_path = \"./models/StableDiffusion/ACertainThing/\"\n",
    "\n",
    "tokenizer = CLIPTokenizer.from_pretrained(stable_diffusion_model_path, subfolder=\"tokenizer\")\n",
    "text_encoder = CLIPTextModel.from_pretrained(stable_diffusion_model_path, subfolder=\"text_encoder\").cuda()\n",
    "vae = AutoencoderKL.from_pretrained(stable_diffusion_model_path, subfolder=\"vae\").cuda()\n",
    "unet = UNet3DConditionModel.from_pretrained_2d(stable_diffusion_model_path, subfolder=\"unet\", unet_additional_kwargs={\n",
    "    \"unet_use_cross_frame_attention\": False,\n",
    "    \"unet_use_temporal_attention\": False,\n",
    "    \"use_motion_module\": True,\n",
    "    \"motion_module_resolutions\": [1, 2, 4, 8],\n",
    "    \"motion_module_mid_block\": False,\n",
    "    \"motion_module_decoder_only\": False,\n",
    "    \"motion_module_type\": \"Vanilla\",\n",
    "    \"motion_module_kwargs\": {\n",
    "        \"num_attention_heads\": 8,\n",
    "        \"num_transformer_block\": 1,\n",
    "        \"attention_block_types\": [\"Temporal_Self\", \"Temporal_Self\"],\n",
    "        \"temporal_position_encoding\": True,\n",
    "        \"temporal_position_encoding_max_len\": 24,\n",
    "        \"temporal_attention_dim_div\": 1\n",
    "    }\n",
    "}).cuda()\n",
    "motion_module_path = os.path.join(\"./models/Motion_Module/\", \"mm_sd_v14.ckpt\")\n",
    "motion_module_state_dict = torch.load(motion_module_path, map_location=\"cpu\")\n",
    "missing, unexpected = unet.load_state_dict(motion_module_state_dict, strict=False)\n",
    "assert len(unexpected) == 0\n",
    "unet.enable_xformers_memory_efficient_attention()\n",
    "scheduler = DDIMScheduler(beta_start=0.00085, beta_end=0.012, beta_schedule=\"linear\")\n",
    "\n",
    "pipeline = AnimationInpaintPipeline(vae=vae, text_encoder=text_encoder, tokenizer=tokenizer, unet=unet, scheduler=scheduler).to(\"cuda\")"
   ]
  },
  {
   "attachments": {},
   "cell_type": "markdown",
   "metadata": {},
   "source": [
    "## Prompt"
   ]
  },
  {
   "cell_type": "code",
   "execution_count": null,
   "metadata": {},
   "outputs": [],
   "source": [
    "import PIL\n",
    "\n",
    "configs = [\n",
    "    {\n",
    "        \"prompt\": \"\",\n",
    "        \"negative_prompt\": \"\",\n",
    "        \"num_inference_steps\": 25,\n",
    "        \"guidance_scale\": 1,\n",
    "        \"width\": 512,\n",
    "        \"height\": 512,\n",
    "        \"video_length\": 10,\n",
    "        \"seed\": 1,\n",
    "        \"keyframes\": {\n",
    "            0: \"images/0.jpeg\",\n",
    "            9: \"images/15.jpeg\",\n",
    "        },\n",
    "        \"add_predicted_noise\": False,\n",
    "        \"do_reconstruction_guidance\": True,\n",
    "        \"reconstruction_guidance_scale\": 1000\n",
    "    },\n",
    "]"
   ]
  },
  {
   "attachments": {},
   "cell_type": "markdown",
   "metadata": {},
   "source": [
    "## Inference"
   ]
  },
  {
   "cell_type": "code",
   "execution_count": null,
   "metadata": {},
   "outputs": [],
   "source": [
    "import time\n",
    "from datetime import datetime\n",
    "\n",
    "from animatediff.utils.util import save_videos_grid\n",
    "\n",
    "for config in configs:\n",
    "    torch.manual_seed(config[\"seed\"])\n",
    "    \n",
    "    sample = pipeline(\n",
    "        prompt = config[\"prompt\"],\n",
    "        negative_prompt = config[\"negative_prompt\"],\n",
    "        num_inference_steps = config[\"num_inference_steps\"],\n",
    "        guidance_scale = config[\"guidance_scale\"],\n",
    "        width = config[\"width\"],\n",
    "        height = config[\"height\"],\n",
    "        video_length = config[\"video_length\"],\n",
    "        keyframes = {k: PIL.Image.open(v) for k, v in config[\"keyframes\"].items()},\n",
    "        add_predicted_noise=config[\"add_predicted_noise\"],\n",
    "        do_reconstruction_guidance=config[\"do_reconstruction_guidance\"],\n",
    "        reconstruction_guidance_scale=config[\"reconstruction_guidance_scale\"]\n",
    "    ).videos\n",
    "    \n",
    "    savedir = os.path.join(os.getcwd(), \"samples\", datetime.now().strftime(\"Gradio-%Y-%m-%dT%H-%M-%S\"))\n",
    "    savedir_sample = os.path.join(savedir, \"sample\")\n",
    "    os.makedirs(savedir, exist_ok=True)\n",
    "    \n",
    "    save_sample_path = os.path.join(savedir_sample, f\"{str(int(time.time()))}.mp4\")\n",
    "    save_videos_grid(sample, save_sample_path)\n",
    "    # save config\n",
    "    with open(os.path.join(savedir, \"prompt.txt\"), \"w\") as f:\n",
    "        f.write(str(config))"
   ]
  }
 ],
 "metadata": {
  "kernelspec": {
   "display_name": "venv",
   "language": "python",
   "name": "python3"
  },
  "language_info": {
   "codemirror_mode": {
    "name": "ipython",
    "version": 3
   },
   "file_extension": ".py",
   "mimetype": "text/x-python",
   "name": "python",
   "nbconvert_exporter": "python",
   "pygments_lexer": "ipython3",
   "version": "3.10.12"
  },
  "orig_nbformat": 4
 },
 "nbformat": 4,
 "nbformat_minor": 2
}
